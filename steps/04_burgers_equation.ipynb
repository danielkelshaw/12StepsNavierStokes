{
 "cells": [
  {
   "cell_type": "markdown",
   "metadata": {},
   "source": [
    "### **1D Burgers' Equation**"
   ]
  },
  {
   "cell_type": "markdown",
   "metadata": {},
   "source": [
    "The 1-D Burgers' equation is:\n",
    "\n",
    "$$  \\frac{\\partial{}u}{\\partial{t}} + c\\frac{\\partial{u}}{\\partial{x}} = \\nu \\frac{\\partial^{2}{u}}{\\partial^{2}{x}}  $$\n",
    "\n",
    "As you can see, this is simply a combination of the non-linear convection / diffusion equations.\n",
    "\n",
    "This can be discretised as follows:\n",
    "\n",
    "$$  \\frac{u_{i}^{n + 1} - u_{i}^{n}}{\\Delta{t}} + u_{i}^{n}\\frac{u_{i}^{n} - u_{i - 1}^{n}}{\\Delta{x}} = \\nu \\frac{u_{i + 1}^{n} - 2u_{i}^{n} + u_{i - 1}^{n}}{\\Delta{x^{2}}}  $$\n",
    "\n",
    "We can solve for the unknown:\n",
    "\n",
    "$$  u_{i}^{n + 1} = u_{i}^{n} - u_{i}^{n}\\frac{\\Delta{t}}{\\Delta{x}}(u_{i}^{n} - u_{i - 1}^{n}) + \\frac{\\nu\\Delta{t}}{\\Delta{x^{2}}}(u_{i + 1}^{n} - 2u_{i}^{n} + u_{i - 1}^{n})  $$\n",
    "\n",
    "#### **Initial Conditions:**\n",
    "\n",
    "$$  u = -\\frac{2\\nu}{\\phi}\\frac{\\partial{\\phi}}{\\partial{x}} + 4  $$\n",
    "$$  \\phi = \\exp\\left(\\frac{-x^{2}}{4\\nu}\\right) + \\exp\\left(\\frac{-(x - 2\\phi)^{2})}{4\\nu}\\right)  $$\n",
    "\n",
    "This has an analytical solution given by:\n",
    "\n",
    "$$  u = -\\frac{2\\nu}{\\phi}\\frac{\\partial{\\phi}}{\\partial{x}} + 4  $$\n",
    "$$  \\phi = \\exp\\left(\\frac{-(x - 4t)^{2}}{4\\nu(t + 1)}\\right) + \\exp\\left(\\frac{-(x - 4t -2\\phi)^{2})}{4\\nu(t + 1)}\\right)  $$\n",
    "\n",
    "#### **Boundary Conditions:**\n",
    "\n",
    "$$  u(0) = u(2\\pi)  $$"
   ]
  },
  {
   "cell_type": "code",
   "execution_count": 1,
   "metadata": {},
   "outputs": [],
   "source": [
    "import numpy as np\n",
    "import sympy\n",
    "import matplotlib.pyplot as plt\n",
    "\n",
    "plt.rcParams[\"figure.figsize\"] = (16, 4)"
   ]
  },
  {
   "cell_type": "code",
   "execution_count": 2,
   "metadata": {},
   "outputs": [
    {
     "data": {
      "text/latex": [
       "$\\displaystyle e^{- \\frac{\\left(- 4 t + x - 2 \\pi\\right)^{2}}{4 \\nu \\left(t + 1\\right)}} + e^{- \\frac{\\left(- 4 t + x\\right)^{2}}{4 \\nu \\left(t + 1\\right)}}$"
      ],
      "text/plain": [
       "exp(-(-4*t + x - 2*pi)**2/(4*nu*(t + 1))) + exp(-(-4*t + x)**2/(4*nu*(t + 1)))"
      ]
     },
     "execution_count": 2,
     "metadata": {},
     "output_type": "execute_result"
    }
   ],
   "source": [
    "x, nu, t = sympy.symbols('x nu t')\n",
    "phi = (sympy.exp(-(x - 4 * t)**2 / (4 * nu * (t + 1))) +\n",
    "       sympy.exp(-(x - 4 * t - 2 * sympy.pi)**2 / (4 * nu * (t + 1))))\n",
    "phi"
   ]
  },
  {
   "cell_type": "code",
   "execution_count": 3,
   "metadata": {},
   "outputs": [
    {
     "data": {
      "text/latex": [
       "$\\displaystyle - \\frac{\\left(- 8 t + 2 x\\right) e^{- \\frac{\\left(- 4 t + x\\right)^{2}}{4 \\nu \\left(t + 1\\right)}}}{4 \\nu \\left(t + 1\\right)} - \\frac{\\left(- 8 t + 2 x - 4 \\pi\\right) e^{- \\frac{\\left(- 4 t + x - 2 \\pi\\right)^{2}}{4 \\nu \\left(t + 1\\right)}}}{4 \\nu \\left(t + 1\\right)}$"
      ],
      "text/plain": [
       "-(-8*t + 2*x)*exp(-(-4*t + x)**2/(4*nu*(t + 1)))/(4*nu*(t + 1)) - (-8*t + 2*x - 4*pi)*exp(-(-4*t + x - 2*pi)**2/(4*nu*(t + 1)))/(4*nu*(t + 1))"
      ]
     },
     "execution_count": 3,
     "metadata": {},
     "output_type": "execute_result"
    }
   ],
   "source": [
    "phiprime = phi.diff(x)\n",
    "phiprime"
   ]
  },
  {
   "cell_type": "code",
   "execution_count": 4,
   "metadata": {},
   "outputs": [],
   "source": [
    "from sympy.utilities.lambdify import lambdify\n",
    "\n",
    "u = -2 * nu * (phiprime / phi) + 4\n",
    "ufunc = lambdify((t, x, nu), u)"
   ]
  },
  {
   "cell_type": "code",
   "execution_count": 5,
   "metadata": {},
   "outputs": [],
   "source": [
    "nx = 101\n",
    "nt = 100\n",
    "dx = 2 * np.pi / (nx - 1)\n",
    "nu = 0.07\n",
    "dt = dx * nu\n",
    "\n",
    "x = np.linspace(0, 2 * np.pi, nx)\n",
    "un = np.empty(nx)\n",
    "t = 0\n",
    "\n",
    "u = np.asarray([ufunc(t, x0, nu) for x0 in x])"
   ]
  },
  {
   "cell_type": "code",
   "execution_count": 6,
   "metadata": {},
   "outputs": [],
   "source": [
    "for n in range(nt):\n",
    "    \n",
    "    un = u.copy()\n",
    "    for i in range(1, nx-1):\n",
    "        u[i] = un[i] - un[i] * dt / dx *(un[i] - un[i-1]) + nu * dt / dx**2 * (un[i+1] - 2 * un[i] + un[i-1])\n",
    "        \n",
    "    u[0] = un[0] - un[0] * dt / dx * (un[0] - un[-2]) + nu * dt / dx**2 * (un[1] - 2 * un[0] + un[-2])\n",
    "    u[-1] = u[0]\n",
    "        \n",
    "u_analytical = np.asarray([ufunc(nt * dt, xi, nu) for xi in x])"
   ]
  },
  {
   "cell_type": "code",
   "execution_count": 7,
   "metadata": {},
   "outputs": [
    {
     "data": {
      "text/plain": [
       "<matplotlib.legend.Legend at 0x11e373640>"
      ]
     },
     "execution_count": 7,
     "metadata": {},
     "output_type": "execute_result"
    },
    {
     "data": {
      "image/png": "[encoded data removed]",
      "text/plain": [
       "<Figure size 1152x288 with 1 Axes>"
      ]
     },
     "metadata": {
      "needs_background": "light"
     },
     "output_type": "display_data"
    }
   ],
   "source": [
    "plt.plot(x, u, label='computational')\n",
    "plt.plot(x, u_analytical, label='analytical')\n",
    "plt.legend()"
   ]
  },
  {
   "cell_type": "code",
   "execution_count": null,
   "metadata": {},
   "outputs": [],
   "source": []
  }
 ],
 "metadata": {
  "kernelspec": {
   "display_name": "Python 3",
   "language": "python",
   "name": "python3"
  },
  "language_info": {
   "codemirror_mode": {
    "name": "ipython",
    "version": 3
   },
   "file_extension": ".py",
   "mimetype": "text/x-python",
   "name": "python",
   "nbconvert_exporter": "python",
   "pygments_lexer": "ipython3",
   "version": "3.8.3"
  }
 },
 "nbformat": 4,
 "nbformat_minor": 4
}
